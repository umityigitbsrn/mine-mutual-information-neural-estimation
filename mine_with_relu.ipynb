{
 "cells": [
  {
   "cell_type": "code",
   "execution_count": 1,
   "metadata": {
    "ExecuteTime": {
     "end_time": "2023-10-02T20:47:01.464913Z",
     "start_time": "2023-10-02T20:47:00.593054Z"
    }
   },
   "outputs": [],
   "source": [
    "import numpy as np\n",
    "import matplotlib.pyplot as plt\n",
    "\n",
    "import torch\n",
    "import torch.nn as nn\n",
    "import torch.nn.functional as F\n",
    "import torch.optim as optim\n",
    "import torch.autograd as autograd"
   ]
  },
  {
   "cell_type": "code",
   "execution_count": 2,
   "metadata": {
    "ExecuteTime": {
     "end_time": "2023-10-02T20:47:02.047869Z",
     "start_time": "2023-10-02T20:47:02.045416Z"
    }
   },
   "outputs": [],
   "source": [
    "class MineELU(nn.Module):\n",
    "    def __init__(self, input_size=2, hidden_size=100):\n",
    "        super().__init__()\n",
    "        self.fc1 = nn.Linear(input_size, hidden_size)\n",
    "        self.fc2 = nn.Linear(hidden_size, hidden_size)\n",
    "        self.fc3 = nn.Linear(hidden_size, 1)\n",
    "        nn.init.kaiming_normal_(self.fc1.weight, mode='fan_out')\n",
    "        nn.init.constant_(self.fc1.bias, 0)\n",
    "        nn.init.kaiming_normal_(self.fc2.weight, mode='fan_out')\n",
    "        nn.init.constant_(self.fc2.bias, 0)\n",
    "        nn.init.kaiming_normal_(self.fc3.weight, mode='fan_out')\n",
    "        nn.init.constant_(self.fc3.bias, 0)\n",
    "        \n",
    "    def forward(self, input_arg):\n",
    "        output = F.elu(self.fc1(input_arg))\n",
    "        output = F.elu(self.fc2(output))\n",
    "        output = self.fc3(output)\n",
    "        return output\n",
    "    \n",
    "class MineReLU(nn.Module):\n",
    "    def __init__(self, input_size=2, hidden_size=100):\n",
    "        super().__init__()\n",
    "        self.fc1 = nn.Linear(input_size, hidden_size)\n",
    "        self.fc2 = nn.Linear(hidden_size, hidden_size)\n",
    "        self.fc3 = nn.Linear(hidden_size, 1)\n",
    "        \n",
    "        nn.init.kaiming_normal_(self.fc1.weight, mode='fan_out', nonlinearity='relu')\n",
    "        nn.init.constant_(self.fc1.bias, 0)\n",
    "        nn.init.kaiming_normal_(self.fc2.weight, mode='fan_out', nonlinearity='relu')\n",
    "        nn.init.constant_(self.fc2.bias, 0)\n",
    "        nn.init.kaiming_normal_(self.fc3.weight, mode='fan_out', nonlinearity='relu')\n",
    "        nn.init.constant_(self.fc3.bias, 0)\n",
    "        \n",
    "    def forward(self, input_arg):\n",
    "        output = F.elu(self.fc1(input_arg))\n",
    "        output = F.elu(self.fc2(output))\n",
    "        output = self.fc3(output)\n",
    "        return output"
   ]
  },
  {
   "cell_type": "code",
   "execution_count": 3,
   "metadata": {
    "ExecuteTime": {
     "end_time": "2023-10-02T20:47:02.959765Z",
     "start_time": "2023-10-02T20:47:02.957441Z"
    }
   },
   "outputs": [],
   "source": [
    "def mutual_information(joint, marginal, mine_net):\n",
    "    t = mine_net(joint)\n",
    "    et = torch.exp(mine_net(marginal))\n",
    "    mi_lb = torch.mean(t) - torch.log(torch.mean(et))\n",
    "    return mi_lb, t, et\n",
    "\n",
    "def learn_mine(batch, mine_net, mine_net_optim,  ma_et, ma_rate=0.01):\n",
    "    # batch is a tuple of (joint, marginal)\n",
    "    joint , marginal = batch\n",
    "    joint = torch.autograd.Variable(torch.FloatTensor(joint))\n",
    "    marginal = torch.autograd.Variable(torch.FloatTensor(marginal))\n",
    "    mi_lb, t, et = mutual_information(joint, marginal, mine_net)\n",
    "    ma_et = (1-ma_rate)*ma_et + ma_rate*torch.mean(et)\n",
    "    \n",
    "    # unbiasing use moving average\n",
    "    loss = -(torch.mean(t) - (1/ma_et.mean()).detach()*torch.mean(et))\n",
    "    # use biased estimator\n",
    "#     loss = - mi_lb\n",
    "    \n",
    "    mine_net_optim.zero_grad()\n",
    "    autograd.backward(loss)\n",
    "    mine_net_optim.step()\n",
    "    return mi_lb, ma_et"
   ]
  },
  {
   "cell_type": "code",
   "execution_count": 4,
   "metadata": {
    "ExecuteTime": {
     "end_time": "2023-10-02T20:47:04.013459Z",
     "start_time": "2023-10-02T20:47:04.008487Z"
    }
   },
   "outputs": [],
   "source": [
    "def sample_batch(data, batch_size, sample_mode='joint'):\n",
    "    if sample_mode == 'joint':\n",
    "        index = np.random.choice(range(data.shape[0]), size=batch_size, replace=False)\n",
    "        batch = data[index]\n",
    "    else:\n",
    "        joint_index = np.random.choice(range(data.shape[0]), size=batch_size, replace=False)\n",
    "        marginal_index = np.random.choice(range(data.shape[0]), size=batch_size, replace=False)\n",
    "        batch = np.concatenate([data[joint_index][:,0].reshape(-1,1),\n",
    "                                         data[marginal_index][:,1].reshape(-1,1)],\n",
    "                                       axis=1)\n",
    "    return batch"
   ]
  },
  {
   "cell_type": "code",
   "execution_count": 5,
   "metadata": {
    "ExecuteTime": {
     "end_time": "2023-10-02T20:47:05.234276Z",
     "start_time": "2023-10-02T20:47:05.229820Z"
    }
   },
   "outputs": [],
   "source": [
    "def train(data, mine_net,mine_net_optim, batch_size=100, iter_num=int(1e+5), log_freq=int(1e+3)):\n",
    "    # data is x or y\n",
    "    result = list()\n",
    "    ma_et = 1.\n",
    "    for i in range(iter_num):\n",
    "        batch = sample_batch(data, batch_size), sample_batch(data, batch_size, sample_mode='marginal')\n",
    "        mi_lb, ma_et = learn_mine(batch, mine_net, mine_net_optim, ma_et)\n",
    "        result.append(mi_lb.item())\n",
    "        if (i+1) % log_freq == 0:\n",
    "            print(result[-1]) \n",
    "    result = np.asarray(result)\n",
    "    return result"
   ]
  },
  {
   "cell_type": "code",
   "execution_count": 6,
   "metadata": {
    "ExecuteTime": {
     "end_time": "2023-10-02T20:47:06.353096Z",
     "start_time": "2023-10-02T20:47:06.347780Z"
    }
   },
   "outputs": [],
   "source": [
    "def ma(a, window_size=100):\n",
    "    return [np.mean(a[i:(i+window_size)]) for i in range(0,len(a)-window_size)]"
   ]
  },
  {
   "cell_type": "code",
   "execution_count": 7,
   "outputs": [],
   "source": [
    "cov = [\n",
    "    [1., .8],\n",
    "    [.8, 1.]\n",
    "]\n",
    "data_X = np.random.multivariate_normal(mean=[0,0], cov=cov, size=1024)"
   ],
   "metadata": {
    "collapsed": false,
    "ExecuteTime": {
     "end_time": "2023-10-02T20:47:07.495817Z",
     "start_time": "2023-10-02T20:47:07.490845Z"
    }
   }
  },
  {
   "cell_type": "code",
   "execution_count": 8,
   "metadata": {
    "ExecuteTime": {
     "end_time": "2023-10-02T20:49:13.777931Z",
     "start_time": "2023-10-02T20:47:11.846887Z"
    }
   },
   "outputs": [
    {
     "name": "stdout",
     "output_type": "stream",
     "text": [
      "0.380649209022522\n",
      "0.3920813798904419\n",
      "0.6650665998458862\n",
      "0.5968141555786133\n",
      "0.39959409832954407\n",
      "0.4435442090034485\n",
      "0.27625590562820435\n",
      "0.13018059730529785\n",
      "0.5319064259529114\n",
      "0.45132070779800415\n",
      "0.6048552989959717\n",
      "0.6046539545059204\n",
      "0.565786600112915\n",
      "0.5666408538818359\n",
      "0.3080611228942871\n",
      "0.3932431638240814\n",
      "0.22126781940460205\n",
      "0.5402025580406189\n",
      "0.7230842113494873\n",
      "0.5976412296295166\n",
      "0.3151695728302002\n",
      "0.5115730166435242\n",
      "0.2866087555885315\n",
      "0.33230286836624146\n",
      "0.04701867699623108\n",
      "0.8243368864059448\n",
      "0.47963622212409973\n",
      "0.5573291182518005\n",
      "0.3989827036857605\n",
      "0.5148946046829224\n",
      "0.3945145308971405\n",
      "0.6808319687843323\n",
      "0.49284419417381287\n",
      "0.6286193132400513\n",
      "0.5094196796417236\n",
      "0.638890266418457\n",
      "0.5847952365875244\n",
      "0.5350714325904846\n",
      "0.683823823928833\n",
      "0.43139946460723877\n",
      "0.5967102646827698\n",
      "0.2992561459541321\n",
      "0.37087690830230713\n",
      "0.5580531358718872\n",
      "0.43084821105003357\n",
      "0.518273651599884\n",
      "0.46528568863868713\n",
      "0.5660123229026794\n",
      "0.4447694420814514\n",
      "0.2187073528766632\n",
      "0.5947834849357605\n",
      "0.5305546522140503\n",
      "0.28900113701820374\n",
      "0.5287535786628723\n",
      "0.6414014101028442\n",
      "0.45495742559432983\n",
      "0.5689391493797302\n",
      "0.43682628870010376\n",
      "0.5507009029388428\n",
      "0.4991757869720459\n",
      "0.5699095129966736\n",
      "0.5782732367515564\n",
      "0.5668244957923889\n",
      "0.609908401966095\n",
      "0.5343809127807617\n",
      "0.5976139307022095\n",
      "0.266070157289505\n",
      "0.5909550786018372\n",
      "0.6772332191467285\n",
      "0.5016639828681946\n",
      "0.5714644193649292\n",
      "0.4641690254211426\n",
      "0.6292315721511841\n",
      "0.363375723361969\n",
      "0.7026852965354919\n",
      "0.42833566665649414\n",
      "0.5505663752555847\n",
      "0.5950669050216675\n",
      "0.42258164286613464\n",
      "0.4990716278553009\n",
      "0.5606816411018372\n",
      "0.5571785569190979\n",
      "0.37677329778671265\n",
      "0.5155006051063538\n",
      "0.35364043712615967\n",
      "0.3957964777946472\n",
      "0.7232792377471924\n",
      "0.36499249935150146\n",
      "0.3829227387905121\n",
      "0.7431648373603821\n",
      "0.3338571786880493\n",
      "0.46654829382896423\n",
      "0.40648186206817627\n",
      "0.5493911504745483\n",
      "0.4359796345233917\n",
      "0.47502174973487854\n",
      "0.6111962795257568\n",
      "0.49268558621406555\n",
      "0.5381627082824707\n",
      "0.3477053642272949\n"
     ]
    }
   ],
   "source": [
    "mine_net_cor = MineReLU()\n",
    "mine_net_optim_cor = optim.Adam(mine_net_cor.parameters(), lr=1e-3)\n",
    "result_cor = train(data_X, mine_net_cor, mine_net_optim_cor, batch_size=128)"
   ]
  },
  {
   "cell_type": "code",
   "execution_count": 9,
   "outputs": [
    {
     "name": "stdout",
     "output_type": "stream",
     "text": [
      "0.4968909865617752\n"
     ]
    },
    {
     "data": {
      "text/plain": "[<matplotlib.lines.Line2D at 0x16a26cdf0>]"
     },
     "execution_count": 9,
     "metadata": {},
     "output_type": "execute_result"
    },
    {
     "data": {
      "text/plain": "<Figure size 432x288 with 1 Axes>",
      "image/png": "[encoded data removed]"
     },
     "metadata": {
      "needs_background": "light"
     },
     "output_type": "display_data"
    }
   ],
   "source": [
    "result_cor_ma = ma(result_cor)\n",
    "print(result_cor_ma[-1])\n",
    "plt.plot(range(len(result_cor_ma)),result_cor_ma)"
   ],
   "metadata": {
    "collapsed": false,
    "ExecuteTime": {
     "end_time": "2023-10-02T20:49:17.323822Z",
     "start_time": "2023-10-02T20:49:16.994757Z"
    }
   }
  },
  {
   "cell_type": "code",
   "execution_count": 18,
   "outputs": [
    {
     "name": "stdout",
     "output_type": "stream",
     "text": [
      "0.6180503368377686\n",
      "0.5147232413291931\n",
      "0.48144370317459106\n",
      "0.30011066794395447\n",
      "0.4768623113632202\n",
      "0.41318780183792114\n",
      "0.42991527915000916\n",
      "0.39036041498184204\n",
      "0.4983639419078827\n",
      "0.5655034184455872\n",
      "0.6114146113395691\n",
      "0.6590268611907959\n",
      "0.6055393815040588\n",
      "0.4819388687610626\n",
      "0.35318681597709656\n",
      "0.37125489115715027\n",
      "0.5474154949188232\n",
      "0.5090807676315308\n",
      "0.3441179096698761\n",
      "0.7329931259155273\n",
      "0.28925901651382446\n",
      "0.5934571027755737\n",
      "0.3345409631729126\n",
      "0.47968146204948425\n",
      "0.5216915607452393\n",
      "0.23896066844463348\n",
      "0.7088863849639893\n",
      "0.5388236045837402\n",
      "0.5240522623062134\n",
      "0.5496896505355835\n",
      "0.37795814871788025\n",
      "0.41812801361083984\n",
      "0.2615298628807068\n",
      "0.4623028635978699\n",
      "0.7102475166320801\n",
      "0.4063628315925598\n",
      "0.6021551489830017\n",
      "0.34365978837013245\n",
      "0.3385661840438843\n",
      "0.5065776109695435\n",
      "0.5991829037666321\n",
      "0.455694317817688\n",
      "0.13535559177398682\n",
      "0.42251816391944885\n",
      "0.6036609411239624\n",
      "0.6283966898918152\n",
      "0.6730669736862183\n",
      "0.48151645064353943\n",
      "0.6609517335891724\n",
      "0.701106071472168\n",
      "0.6510491371154785\n",
      "0.26635128259658813\n",
      "0.5305062532424927\n",
      "0.4640885591506958\n",
      "0.5378140807151794\n",
      "0.4412277042865753\n",
      "0.4833035171031952\n",
      "0.6173647046089172\n",
      "0.472637802362442\n",
      "0.44504404067993164\n",
      "0.5061818957328796\n",
      "0.6399183869361877\n",
      "0.6992995738983154\n",
      "0.4134378731250763\n",
      "0.4619695842266083\n",
      "0.6359432935714722\n",
      "0.6515448093414307\n",
      "0.45194703340530396\n",
      "0.3390217423439026\n",
      "0.26058894395828247\n",
      "0.664560854434967\n",
      "0.39105552434921265\n",
      "0.6362602710723877\n",
      "0.5166138410568237\n",
      "0.37509316205978394\n",
      "0.39361611008644104\n",
      "0.6480149626731873\n",
      "0.5890125036239624\n",
      "0.7296794056892395\n",
      "0.656606137752533\n",
      "0.5693188309669495\n",
      "0.5153087377548218\n",
      "0.5003372430801392\n",
      "0.4908962845802307\n",
      "0.4106132686138153\n",
      "0.4056905210018158\n",
      "0.39632898569107056\n",
      "0.5473461151123047\n",
      "0.43647730350494385\n",
      "0.6026909351348877\n",
      "0.37551844120025635\n",
      "0.399179607629776\n",
      "0.5166546702384949\n",
      "0.6191010475158691\n",
      "0.4194851815700531\n",
      "0.4122005105018616\n",
      "0.8219899535179138\n",
      "0.17084622383117676\n",
      "0.3858657479286194\n",
      "0.5512728691101074\n"
     ]
    }
   ],
   "source": [
    "mine_net_cor = MineReLU()\n",
    "mine_net_optim_cor = optim.Adam(mine_net_cor.parameters(), lr=1e-3)\n",
    "result_cor = train(data_X / 5,mine_net_cor,mine_net_optim_cor)"
   ],
   "metadata": {
    "collapsed": false,
    "ExecuteTime": {
     "end_time": "2023-10-02T20:55:54.534517Z",
     "start_time": "2023-10-02T20:54:09.942328Z"
    }
   }
  },
  {
   "cell_type": "code",
   "execution_count": 20,
   "outputs": [
    {
     "name": "stdout",
     "output_type": "stream",
     "text": [
      "0.5235214386880398\n"
     ]
    },
    {
     "data": {
      "text/plain": "[<matplotlib.lines.Line2D at 0x105ff1ac0>]"
     },
     "execution_count": 20,
     "metadata": {},
     "output_type": "execute_result"
    },
    {
     "data": {
      "text/plain": "<Figure size 432x288 with 1 Axes>",
      "image/png": "[encoded data removed]"
     },
     "metadata": {
      "needs_background": "light"
     },
     "output_type": "display_data"
    }
   ],
   "source": [
    "result_cor_ma = ma(result_cor)\n",
    "print(result_cor_ma[-1])\n",
    "plt.plot(range(len(result_cor_ma[:])),result_cor_ma[:])"
   ],
   "metadata": {
    "collapsed": false,
    "ExecuteTime": {
     "end_time": "2023-10-02T20:56:24.018983Z",
     "start_time": "2023-10-02T20:56:23.757989Z"
    }
   }
  }
 ],
 "metadata": {
  "kernelspec": {
   "display_name": "Python 3",
   "language": "python",
   "name": "python3"
  },
  "language_info": {
   "codemirror_mode": {
    "name": "ipython",
    "version": 3
   },
   "file_extension": ".py",
   "mimetype": "text/x-python",
   "name": "python",
   "nbconvert_exporter": "python",
   "pygments_lexer": "ipython3",
   "version": "3.6.5"
  }
 },
 "nbformat": 4,
 "nbformat_minor": 2
}
